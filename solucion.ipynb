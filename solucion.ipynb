{
 "cells": [
  {
   "cell_type": "code",
   "execution_count": 14,
   "metadata": {},
   "outputs": [],
   "source": [
    "import pandas as pd\n",
    "import os\n",
    "import re\n",
    "import zipfile"
   ]
  },
  {
   "cell_type": "code",
   "execution_count": 15,
   "metadata": {},
   "outputs": [],
   "source": [
    "archivo = zipfile.ZipFile('data.zip','r')\n",
    "archivo.extractall()"
   ]
  },
  {
   "cell_type": "code",
   "execution_count": 17,
   "metadata": {},
   "outputs": [],
   "source": [
    "\n",
    "def procesar_carpeta(carpeta):\n",
    "    datos = []\n",
    "    for raiz, directorios, archivos in os.walk(carpeta):\n",
    "        for archivo in archivos:\n",
    "            if archivo.endswith('.txt'):\n",
    "                ruta_archivo = os.path.join(raiz, archivo)\n",
    "                etiqueta = os.path.basename(os.path.dirname(ruta_archivo))\n",
    "                with open(ruta_archivo, 'r', encoding='utf-8') as archivo_txt:\n",
    "                    texto = archivo_txt.read().strip()\n",
    "                    datos.append((texto, etiqueta))\n",
    "    return datos\n",
    "\n",
    "\n",
    "\n",
    "\n",
    "\n",
    "datos_train = procesar_carpeta('train')\n",
    "datos_test = procesar_carpeta('test')\n",
    "\n",
    "df_train = pd.DataFrame(datos_train, columns=['phrase', 'sentiment'])\n",
    "df_test = pd.DataFrame(datos_test, columns=['phrase', 'sentiment'])\n",
    "\n",
    "\n",
    "df_train.to_csv('train_dataset.csv', index=False)\n",
    "df_test.to_csv('test_dataset.csv', index=False)\n",
    "\n"
   ]
  }
 ],
 "metadata": {
  "kernelspec": {
   "display_name": "Python 3",
   "language": "python",
   "name": "python3"
  },
  "language_info": {
   "codemirror_mode": {
    "name": "ipython",
    "version": 3
   },
   "file_extension": ".py",
   "mimetype": "text/x-python",
   "name": "python",
   "nbconvert_exporter": "python",
   "pygments_lexer": "ipython3",
   "version": "3.12.0"
  }
 },
 "nbformat": 4,
 "nbformat_minor": 2
}
